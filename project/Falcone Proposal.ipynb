{
 "cells": [
  {
   "cell_type": "markdown",
   "metadata": {},
   "source": [
    "$\\newcommand{\\xv}{\\mathbf{x}}\n",
    "\\newcommand{\\Xv}{\\mathbf{X}}\n",
    "\\newcommand{\\yv}{\\mathbf{y}}\n",
    "\\newcommand{\\zv}{\\mathbf{z}}\n",
    "\\newcommand{\\av}{\\mathbf{a}}\n",
    "\\newcommand{\\Wv}{\\mathbf{W}}\n",
    "\\newcommand{\\wv}{\\mathbf{w}}\n",
    "\\newcommand{\\tv}{\\mathbf{t}}\n",
    "\\newcommand{\\Tv}{\\mathbf{T}}\n",
    "\\newcommand{\\muv}{\\boldsymbol{\\mu}}\n",
    "\\newcommand{\\sigmav}{\\boldsymbol{\\sigma}}\n",
    "\\newcommand{\\phiv}{\\boldsymbol{\\phi}}\n",
    "\\newcommand{\\Phiv}{\\boldsymbol{\\Phi}}\n",
    "\\newcommand{\\Sigmav}{\\boldsymbol{\\Sigma}}\n",
    "\\newcommand{\\Lambdav}{\\boldsymbol{\\Lambda}}\n",
    "\\newcommand{\\half}{\\frac{1}{2}}\n",
    "\\newcommand{\\argmax}[1]{\\underset{#1}{\\operatorname{argmax}}}\n",
    "\\newcommand{\\argmin}[1]{\\underset{#1}{\\operatorname{argmin}}}$"
   ]
  },
  {
   "cell_type": "markdown",
   "metadata": {},
   "source": [
    "# Project Proposal"
   ]
  },
  {
   "cell_type": "markdown",
   "metadata": {},
   "source": [
    "Michael Falcone"
   ]
  },
  {
   "cell_type": "markdown",
   "metadata": {},
   "source": [
    "## Introduction"
   ]
  },
  {
   "cell_type": "markdown",
   "metadata": {},
   "source": [
    "We will be addressing how to predict EXP (expected points) in football using statistics from last years season. We will be doing this primarily for the defensive team so that we can apply these methods in the future and steal all of our friends money in Fantasy Football. We will be using neural network regression model and producing results similar to that of assignment 3. Our goal will be to reduce the RMSE. We will be answering the following questions: Does the model we create relate to the actual value of EXP? Can we apply similar methods to offensive data? What does this tell us about the team’s success? We wanted to choose a set of data that would be applicable to the real world. We were both interested in seeing how well we could predict the EXP. Additionally, there is a lot of business in this industry, and it will be interesting to see how methods learned in this class compare to well known machine learning techniques used in the industry today."
   ]
  },
  {
   "cell_type": "markdown",
   "metadata": {},
   "source": [
    "## Methods"
   ]
  },
  {
   "cell_type": "markdown",
   "metadata": {},
   "source": [
    "The data we plan to use will be downloaded as a CSV file from the pro-football-reference (http://www.pro-football-reference.com/years/2015/opp.htm) website. We plan to follow a similar path as assignment 3, and compare linear and neural network models to predict the EXP based on defensive stats. We intend to always be working together on the coding and implementation, so we expect it to be evenly split. Both members of the team will equally work on the write up as well. We both hope to gain a better understanding of the algorithms being used and how they are applied to this data by being active members for all parts of the project."
   ]
  },
  {
   "cell_type": "markdown",
   "metadata": {},
   "source": [
    "## Possible Results\n",
    "We are hoping that we will be able to predict the EXP based on the available data. Like what we did in assignment three, we will be investigating if available data can be applied to predict an output variable. Obviously we will most likely not get as good results as the ones posted on the website we’re taking the data from. We do hope we will at least get similar results however."
   ]
  },
  {
   "cell_type": "markdown",
   "metadata": {},
   "source": [
    "##|Members:\n",
    "Michael Falcone<br>\n",
    "Kyle Kurth"
   ]
  },
  {
   "cell_type": "markdown",
   "metadata": {},
   "source": [
    "## Timeline\n",
    "April 25th -> Have data downloaded and running in the notebook.<br>\n",
    "April 29th -> Running basic tests for both linear and neural network algorithms.<br>\n",
    "May 2nd -> Run more advanced tests, begin analyzing data.<br>\n",
    "May 6th -> Finish analysis and write up.<br>"
   ]
  }
 ],
 "metadata": {
  "kernelspec": {
   "display_name": "Python 3",
   "language": "python",
   "name": "python3"
  },
  "language_info": {
   "codemirror_mode": {
    "name": "ipython",
    "version": 3
   },
   "file_extension": ".py",
   "mimetype": "text/x-python",
   "name": "python",
   "nbconvert_exporter": "python",
   "pygments_lexer": "ipython3",
   "version": "3.4.3"
  }
 },
 "nbformat": 4,
 "nbformat_minor": 0
}
