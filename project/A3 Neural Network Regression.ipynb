{
 "cells": [
  {
   "cell_type": "markdown",
   "metadata": {},
   "source": [
    "$\\newcommand{\\xv}{\\mathbf{x}}\n",
    "\\newcommand{\\Xv}{\\mathbf{X}}\n",
    "\\newcommand{\\yv}{\\mathbf{y}}\n",
    "\\newcommand{\\zv}{\\mathbf{z}}\n",
    "\\newcommand{\\av}{\\mathbf{a}}\n",
    "\\newcommand{\\Wv}{\\mathbf{W}}\n",
    "\\newcommand{\\wv}{\\mathbf{w}}\n",
    "\\newcommand{\\tv}{\\mathbf{t}}\n",
    "\\newcommand{\\Tv}{\\mathbf{T}}\n",
    "\\newcommand{\\muv}{\\boldsymbol{\\mu}}\n",
    "\\newcommand{\\sigmav}{\\boldsymbol{\\sigma}}\n",
    "\\newcommand{\\phiv}{\\boldsymbol{\\phi}}\n",
    "\\newcommand{\\Phiv}{\\boldsymbol{\\Phi}}\n",
    "\\newcommand{\\Sigmav}{\\boldsymbol{\\Sigma}}\n",
    "\\newcommand{\\Lambdav}{\\boldsymbol{\\Lambda}}\n",
    "\\newcommand{\\half}{\\frac{1}{2}}\n",
    "\\newcommand{\\argmax}[1]{\\underset{#1}{\\operatorname{argmax}}}\n",
    "\\newcommand{\\argmin}[1]{\\underset{#1}{\\operatorname{argmin}}}$"
   ]
  },
  {
   "cell_type": "markdown",
   "metadata": {},
   "source": [
    "# Assignment 3: Neural Network Regression"
   ]
  },
  {
   "cell_type": "markdown",
   "metadata": {},
   "source": [
    "*Type your name here*"
   ]
  },
  {
   "cell_type": "markdown",
   "metadata": {},
   "source": [
    "## Overview"
   ]
  },
  {
   "cell_type": "markdown",
   "metadata": {},
   "source": [
    "Compare linear and neural network models applied to a data set of your choice.  "
   ]
  },
  {
   "cell_type": "markdown",
   "metadata": {},
   "source": [
    "## Required Code"
   ]
  },
  {
   "cell_type": "markdown",
   "metadata": {},
   "source": [
    "Download [nn1.tar](http://www.cs.colostate.edu/~anderson/cs480/notebooks/nn1.tar) and extract its contents, which are\n",
    "\n",
    "* `neuralnetworks.py`\n",
    "* `scaledconjugategradient.py`\n",
    "* `mlutils.py`\n",
    "\n",
    "as discussed in lecture. \n",
    "\n",
    "Write the following functions that train and evaluate linear and neural network models.\n",
    "\n",
    "* `model = trainLinear(X,T,parameters)`\n",
    "* `error = evaluateLinear(model,X,T)`\n",
    "* `model = trainNN(X,T,parameters)`\n",
    "* `error = evaluateNN(model,X,T)`\n",
    "\n",
    "Write a new and improved version of the function we have been using to partition data into folds and combine them into training, validation and testing subsets.  Call this new version `trainValidateTestKFolds`.  Instead of returning data subsets, it applies train and evaluate functions to the subsets.  It uses the validation subset to determine the best model parameter values.  It must implement this algorithm:\n",
    "\n",
    "```\n",
    "def trainValidateTestKFolds(trainf,evaluatef,X,T,parameterSets,nFolds,\n",
    "                            shuffle=False,verbose=False):\n",
    "    # Randomly arrange row indices\n",
    "    rowIndices = np.arange(X.shape[0])\n",
    "    if shuffle:\n",
    "        np.random.shuffle(rowIndices)\n",
    "    # Calculate number of samples in each of the nFolds folds\n",
    "    nSamples = X.shape[0]\n",
    "    nEach = int(nSamples / nFolds)\n",
    "    if nEach == 0:\n",
    "        raise ValueError(\"partitionKFolds: Number of samples in each fold is 0.\")\n",
    "    # Calculate the starting and stopping row index for each fold.\n",
    "    # Store in startsStops as list of (start,stop) pairs\n",
    "    starts = np.arange(0,nEach*nFolds,nEach)\n",
    "    stops = starts + nEach\n",
    "    stops[-1] = nSamples\n",
    "    startsStops = list(zip(starts,stops))\n",
    "    # Repeat with testFold taking each single fold, one at a time\n",
    "    results = []\n",
    "\n",
    "    # COMPLETE THIS FUNCTION BY IMPLEMENTING THE FOLLOWING STEPS.\n",
    "    \n",
    "    # For each test fold\n",
    "        # For each set of parameter values, called parmSet\n",
    "            # Find best set of parameter values\n",
    "            # For each validate fold (except when same as test fold)\n",
    "                # Use trainf to fit model to training data using parmSet\n",
    "                # Calculate the error of this model by calling evaluatef with \n",
    "                  the model and validation data\n",
    "            # Calculate the mean of these errors.\n",
    "            # If this error is less than the previously best error for parmSet, \n",
    "              update best parameter values and best error\n",
    "        # Make a new set of training data by concatenating the training and \n",
    "          validation data from previous step.\n",
    "        # Retrain, using trainf again, to fit a new model to this new training data.\n",
    "        # Calculate error of this new model on the test data, and also on the new \n",
    "          training data.\n",
    "        # Construct a list of the best parameter values with this training error, \n",
    "          the mean of the above valdiation errors, and the testing error\n",
    "        # Print this list if verbose == True\n",
    "        # Append this list to a result list\n",
    "    # Return this result list\n",
    "``` "
   ]
  },
  {
   "cell_type": "code",
   "execution_count": 103,
   "metadata": {
    "collapsed": false
   },
   "outputs": [
    {
     "name": "stdout",
     "output_type": "stream",
     "text": [
      "Linear Model\n",
      "lambda, train, validate, test RMSE\n",
      "10.00    3.158   4.132   2.414\n",
      "20.00    4.368   5.021   3.641\n",
      "10.00    3.245   4.178   5.030\n",
      "20.00    4.448   6.070   2.024\n",
      "20.00    2.426   2.972   10.886\n",
      "NN Model\n",
      "(hidden units, iterations), train, validate, test RMSE\n",
      "(20, 10)  \t\t    0.404   1.040   0.454\n",
      "([5, 5], 100)  \t\t    0.266   1.364   0.595\n",
      "(20, 20)  \t\t    0.145   0.503   1.226\n",
      "(20, 100)  \t\t    0.192   2.708   0.766\n",
      "(20, 100)  \t\t    0.120   0.725   1.317\n"
     ]
    }
   ],
   "source": [
    "import numpy as np\n",
    "import matplotlib.pyplot as plt\n",
    "%matplotlib inline\n",
    "import mlutils as ml\n",
    "import neuralnetworks as nn\n",
    "import scaledconjugategradient as scg\n",
    "import itertools\n",
    "\n",
    "def trainLinear(X,T,parameters):\n",
    "    means = X.mean(0)\n",
    "    stds = X.std(0)\n",
    "    n,d = X.shape\n",
    "    Xs1 = np.hstack((np.ones((n,1)), (X - means)/stds))\n",
    "    lambDiag = np.eye(d+1) * parameters\n",
    "    lambDiag[0,0] = 0\n",
    "    w = np.linalg.lstsq( np.dot(Xs1.T,Xs1) + lambDiag, np.dot(Xs1.T,T))[0]\n",
    "    return {'w': w, 'means':means, 'stds':stds}\n",
    "    \n",
    "def evaluateLinear(model,X,T):\n",
    "    columnOfOnes = np.ones(( X.shape[0],1 ))\n",
    "    Xs1 = np.hstack(( columnOfOnes, (X-model['means'])/model['stds']))\n",
    "    A = np.dot( Xs1, model['w'] )\n",
    "    return np.sqrt(np.mean( (A-T)**2 ))\n",
    "    \n",
    "def trainNN(X,T,parameters):\n",
    "    net = nn.NeuralNetwork(X.shape[1],parameters[0],T.shape[1])\n",
    "    train = net.train(X,T,nIterations = parameters[1])\n",
    "    return train\n",
    "    \n",
    "def evaluateNN(model,X,T):\n",
    "    use = model.use(X)\n",
    "    error = np.sqrt(np.mean((use-T)**2))\n",
    "    return error\n",
    "    \n",
    "def trainValidateTestKFolds(trainf,evaluatef,X,T,parameterSets,nFolds,shuffle=False,verbose=False):\n",
    "    # Randomly arrange row indices\n",
    "    rowIndices = np.arange(X.shape[0])\n",
    "    if shuffle:\n",
    "        np.random.shuffle(rowIndices)\n",
    "    # Calculate number of samples in each of the nFolds folds\n",
    "    nSamples = X.shape[0]\n",
    "    nEach = int(nSamples / nFolds)\n",
    "    if nEach == 0:\n",
    "        raise ValueError(\"partitionKFolds: Number of samples in each fold is 0.\")\n",
    "    # Calculate the starting and stopping row index for each fold.\n",
    "    # Store in startsStops as list of (start,stop) pairs\n",
    "    starts = np.arange(0,nEach*nFolds,nEach)\n",
    "    stops = starts + nEach\n",
    "    stops[-1] = nSamples\n",
    "    startsStops = list(zip(starts,stops))\n",
    "    # Repeat with testFold taking each single fold, one at a time\n",
    "    results = []\n",
    "\n",
    "    # COMPLETE THIS FUNCTION BY IMPLEMENTING THE FOLLOWING STEPS.\n",
    "    # For each test fold\n",
    "    for testFold in range(nFolds):\n",
    "        finalArray = []\n",
    "        # For each set of parameter values, called parmSet\n",
    "        for parmSet in parameterSets:\n",
    "            newX = []\n",
    "            newT = []\n",
    "            # Find best set of parameter values\n",
    "            bestError = []\n",
    "            # For each validate fold (except when same as test fold)\n",
    "            for validateFold in range(nFolds):\n",
    "                if testFold == validateFold:\n",
    "                    continue\n",
    "                # trainFolds are all remaining folds, after selecting test and validate folds\n",
    "                trainFolds = np.setdiff1d(range(nFolds), [testFold,validateFold])\n",
    "                # Construct Xtrain and Ttrain by collecting rows for all trainFolds\n",
    "                rows = []\n",
    "                for tf in trainFolds:\n",
    "                    a,b = startsStops[tf]                \n",
    "                    rows += rowIndices[a:b].tolist()\n",
    "                Xtrain = X[rows,:]\n",
    "                Ttrain = T[rows,:]\n",
    "                # Construct Xvalidate and Tvalidate\n",
    "                a,b = startsStops[validateFold]\n",
    "                rows = rowIndices[a:b]\n",
    "                Xvalidate = X[rows,:]\n",
    "                Tvalidate = T[rows,:]\n",
    "                # Construct Xtest and Ttest\n",
    "                a,b = startsStops[testFold]\n",
    "                rows = rowIndices[a:b]\n",
    "                Xtest = X[rows,:]\n",
    "                Ttest = T[rows,:]\n",
    "                \n",
    "                # Use trainf to fit model to training data using parmSet\n",
    "                model = trainf(Xtrain,Ttrain,parmSet)\n",
    "                \n",
    "                # Calculate the error of this model by calling evaluatef with the model \n",
    "                # and validation data\n",
    "                error = evaluatef(model,Xvalidate,Tvalidate)\n",
    "                bestError.append(error)\n",
    "                \n",
    "                # Make a new set of training data by concatenating the training and \n",
    "                # validation data from previous step.\n",
    "                newX = np.vstack((Xtrain, Xvalidate))\n",
    "                newT = np.vstack((Ttrain, Tvalidate))\n",
    "                \n",
    "                                \n",
    "            # Calculate the mean of these errors.\n",
    "            finalArray.append(np.array(bestError).mean())\n",
    "\n",
    "        # If this error is less than the previously best error for parmSet,update best \n",
    "        # parameter values and best error\n",
    "        idx = (np.argmin(np.array(finalArray)))\n",
    "        \n",
    "        # Retrain, using trainf again, to fit a new model to this new training data.\n",
    "        reTrain = trainf(newX,newT,parameterSets[idx])\n",
    "        # Calculate error of this new model on the test data, and also on the new training data.\n",
    "        trainError = evaluatef(reTrain,newX,newT)\n",
    "        testError = evaluatef(reTrain,Xtest,Ttest)\n",
    "        \n",
    "        # Construct a list of the best parameter values with this training error, the \n",
    "        # mean of the above valdiation errors, and the testing error\n",
    " \n",
    "        iterResults = [parameterSets[idx], trainError, min(finalArray), testError]\n",
    "        \n",
    "        results.append(iterResults)\n",
    "#         Print this list if verbose == True\n",
    "    if verbose:\n",
    "        print(result)\n",
    "\n",
    "        # Append this list to a result list\n",
    "        # Return this result list\n",
    "    return np.array(results)\n",
    "                \n",
    "        \n",
    "\n",
    "X = np.arange(20).reshape((-1,1))\n",
    "T = np.abs(X -10) + X\n",
    "\n",
    "result = trainValidateTestKFolds(trainLinear,evaluateLinear,X,T,\n",
    "                                 range(0,101,10),nFolds=5,shuffle=False)\n",
    "\n",
    "print('Linear Model\\nlambda, train, validate, test RMSE')\n",
    "for x in result:\n",
    "    print('{:.2f}    {:.3f}   {:.3f}   {:.3f}'.format(*x))\n",
    "      \n",
    "\n",
    "parms = list(itertools.product([2,5,10, 20, [5,5], [10,2,10]], [10,20,100]))\n",
    "result = trainValidateTestKFolds(trainNN,evaluateNN,X,T,\n",
    "                                 parms,nFolds=5,shuffle=False)\n",
    "\n",
    "print('NN Model\\n(hidden units, iterations), train, validate, test RMSE')\n",
    "for x in result:\n",
    "    print('{:}  \\t\\t    {:.3f}   {:.3f}   {:.3f}'.format(*x))\n",
    "\n",
    "# count = 0\n",
    "# for x in result:\n",
    "#     print (x,\"\\t\",end=\"\"),\n",
    "#     count = count + 1\n",
    "#     if count%4==0:\n",
    "#         print()\n",
    "# print('NN Model\\n(hidden units, iterations), train, validate, test RMSE')"
   ]
  },
  {
   "cell_type": "markdown",
   "metadata": {},
   "source": [
    "The `parameters` argument to the `trainLinear` function is just the value of $\\lambda$. For the `trainNN` function it must specify the hidden layer structure and the number of Scaled Conjugate Gradient iterations.  Here are some examples:\n",
    "```\n",
    "model = trainNN(X,T,[5, 100])       # Single hidden layer of 5 units, trained \n",
    "                                    # for 100 iterations\n",
    "model = trainNN(X,T,[[10,10], 200]) # Two hidden layers, 10 units each, \n",
    "                                    # trained for 200 iterations\n",
    "```"
   ]
  },
  {
   "cell_type": "markdown",
   "metadata": {},
   "source": [
    "## Examples\n",
    "\n",
    "```\n",
    "X = np.arange(20).reshape((-1,1))\n",
    "T = np.abs(X -10) + X\n",
    "\n",
    "result = trainValidateTestKFolds(trainLinear,evaluateLinear,X,T,\n",
    "                                 range(0,101,10),nFolds=5,shuffle=False)\n",
    "print('Linear Model\\nlambda, train, validate, test RMSE')\n",
    "for x in result:\n",
    "    print('{:.2f}    {:.3f}   {:.3f}   {:.3f}'.format(*x))\n",
    "```\n",
    "should result in\n",
    "```\n",
    "Linear Model\n",
    "lambda, train, validate, test RMSE\n",
    "10.00    3.158   4.132   2.414\n",
    "20.00    4.368   5.021   3.641\n",
    "10.00    3.245   4.178   5.030\n",
    "20.00    4.448   6.070   2.024\n",
    "20.00    2.426   2.972   10.886\n",
    "```\n",
    "\n",
    "An example of fitting a neural network to this data is\n",
    "```\n",
    "import itertools\n",
    "parms = list(itertools.product([2,5,10, 20, [5,5], [10,2,10]], [10,20,100]))\n",
    "result = trainValidateTestKFolds(trainNN,evaluateNN,X,T,\n",
    "                                 parms,nFolds=5,shuffle=False)\n",
    "print('NN Model\\n(hidden units, iterations), train, validate, test RMSE')\n",
    "for x in result:\n",
    "    print('{:}  \\t\\t    {:.3f}   {:.3f}   {:.3f}'.format(*x))\n",
    "```\n",
    "should result in something like \n",
    "```\n",
    "NN Model\n",
    "(hidden units, iterations), train, validate, test RMSE\n",
    "([10, 2, 10], 100)  \t\t    0.288   1.217   0.719\n",
    "([5, 5], 100)  \t\t    0.285   1.079   0.614\n",
    "(20, 100)  \t\t    0.073   0.532   0.920\n",
    "(20, 100)  \t\t    0.192   2.694   0.892\n",
    "(20, 100)  \t\t    0.129   0.788   2.451\n",
    "```\n",
    "Your results will differ, due to the initial random values for the neural network's weights."
   ]
  },
  {
   "cell_type": "markdown",
   "metadata": {},
   "source": [
    "## Data\n",
    "\n",
    "Pick a data set from the [regression data sets](http://archive.ics.uci.edu/ml/datasets.html?format=&task=reg&att=&area=&numAtt=&numIns=&type=&sort=nameUp&view=table) at the UCI machine learning data repository.  Investigate the use of a linear model with various $\\lambda$ values for your chosen data.  Then investigate the use of a neural network model on the same data for various sizes of hidden layers and numbers of iterations."
   ]
  },
  {
   "cell_type": "code",
   "execution_count": 84,
   "metadata": {
    "collapsed": true
   },
   "outputs": [],
   "source": [
    "def makeYachtData(filename='yacht_hydrodynamics.data'):\n",
    "    def missingIsNan(s):\n",
    "        return np.nan if s == b'?' else float(s)\n",
    "    data = np.loadtxt(filename, usecols=range(7))\n",
    "    print(\"Read\",data.shape[0],\"rows and\",data.shape[1],\"columns from\",filename)\n",
    "    goodRowsMask = np.isnan(data).sum(axis=1) == 0\n",
    "    data = data[goodRowsMask,:]\n",
    "    print(\"After removing rows containing question marks, data has\",data.shape[0],\"rows and\",data.shape[1],\"columns.\")\n",
    "    X = data[:,:6]\n",
    "    T = data[:,6:7]\n",
    "    Xnames =  ['centerOfBuoyancy','prismastic','lengthDisplacement','beamDraught',\n",
    "               'lengthBeamRatio','froudeNumber']\n",
    "    Tname = 'resistancePerUnitWeightDisplacement'\n",
    "    return X,T,Xnames,Tname"
   ]
  },
  {
   "cell_type": "markdown",
   "metadata": {},
   "source": [
    "The below will give us an idea of what the visual relationship is between our yacht attributes (centerOfBuoyancy, prismastic coefficient, lengthDisplacement, beamDraught, lengthBeamRatio, froudeNumber) and the measured variable, the residuary resistance per unit weight of displacement."
   ]
  },
  {
   "cell_type": "code",
   "execution_count": 85,
   "metadata": {
    "collapsed": false
   },
   "outputs": [
    {
     "data": {
      "image/png": "[encoded data removed]",
      "text/plain": [
       "<matplotlib.figure.Figure at 0x7fe28faa5898>"
      ]
     },
     "metadata": {},
     "output_type": "display_data"
    }
   ],
   "source": [
    "plt.figure(figsize=(10,10))\n",
    "for c in range(X.shape[1]):\n",
    "    plt.subplot(3,3, c+1)\n",
    "    plt.plot(X[:,c], T, 'o', alpha=0.5)\n",
    "    plt.ylabel(Tname)\n",
    "    plt.xlabel(Xnames[c])"
   ]
  },
  {
   "cell_type": "code",
   "execution_count": 107,
   "metadata": {
    "collapsed": false,
    "scrolled": false
   },
   "outputs": [
    {
     "name": "stdout",
     "output_type": "stream",
     "text": [
      "Read 308 rows and 7 columns from yacht_hydrodynamics.data\n",
      "After removing rows containing question marks, data has 308 rows and 7 columns.\n",
      "\n",
      "\n",
      "Testing with nFolds of 10 at various values for parameterSets\n",
      "Linear Model\n",
      "lambda, train, validate, test RMSE\n",
      "\n",
      "paramSets value: range(0,11,1)\n",
      "4.00    8.873   8.922   8.734\n",
      "7.00    8.939   8.995   8.146\n",
      "5.00    8.872   8.916   8.821\n",
      "9.00    8.992   9.059   7.575\n",
      "7.00    8.824   8.878   9.232\n",
      "7.00    8.897   8.950   8.548\n",
      "7.00    8.710   8.747   10.299\n",
      "8.00    8.754   8.805   9.856\n",
      "7.00    8.824   8.867   9.284\n",
      "8.00    8.909   8.970   8.566\n",
      "\n",
      "paramSets value: range(0,101,10)\n",
      "0.00    8.868   8.922   8.811\n",
      "10.00    8.945   8.997   8.131\n",
      "10.00    8.881   8.920   8.804\n",
      "10.00    8.994   9.059   7.570\n",
      "10.00    8.830   8.880   9.240\n",
      "10.00    8.902   8.951   8.548\n",
      "10.00    8.715   8.748   10.333\n",
      "10.00    8.758   8.806   9.860\n",
      "10.00    8.829   8.869   9.299\n",
      "10.00    8.913   8.971   8.571\n",
      "\n",
      "paramSets value: range(0,151,15)\n",
      "0.00    8.868   8.922   8.811\n",
      "15.00    8.957   9.006   8.117\n",
      "0.00    8.867   8.925   8.868\n",
      "15.00    9.007   9.066   7.545\n",
      "15.00    8.842   8.888   9.255\n",
      "15.00    8.914   8.959   8.553\n",
      "15.00    8.726   8.757   10.391\n",
      "15.00    8.770   8.814   9.874\n",
      "15.00    8.841   8.878   9.328\n",
      "15.00    8.925   8.978   8.586\n",
      "\n",
      "paramSets value: range(0,201,20)\n",
      "0.00    8.868   8.922   8.811\n",
      "20.00    8.973   9.021   8.111\n",
      "0.00    8.867   8.925   8.868\n",
      "20.00    9.023   9.080   7.526\n",
      "20.00    8.858   8.901   9.273\n",
      "20.00    8.931   8.973   8.563\n",
      "20.00    8.742   8.771   10.450\n",
      "20.00    8.786   8.827   9.892\n",
      "20.00    8.857   8.892   9.359\n",
      "20.00    8.942   8.991   8.605\n",
      "\n",
      "paramSets value: range(0,251,25)\n",
      "0.00    8.868   8.922   8.811\n",
      "25.00    8.993   9.040   8.112\n",
      "0.00    8.867   8.925   8.868\n",
      "25.00    9.043   9.099   7.513\n",
      "0.00    8.818   8.917   9.224\n",
      "0.00    8.891   8.980   8.554\n",
      "0.00    8.704   8.785   10.221\n",
      "25.00    8.805   8.845   9.913\n",
      "0.00    8.819   8.905   9.248\n",
      "25.00    8.963   9.009   8.629\n",
      "\n",
      "paramSets value: range(0,301,30)\n",
      "0.00    8.868   8.922   8.811\n",
      "0.00    8.932   9.041   8.383\n",
      "0.00    8.867   8.925   8.868\n",
      "30.00    9.066   9.123   7.504\n",
      "0.00    8.818   8.917   9.224\n",
      "0.00    8.891   8.980   8.554\n",
      "0.00    8.704   8.785   10.221\n",
      "0.00    8.747   8.848   9.840\n",
      "0.00    8.819   8.905   9.248\n",
      "0.00    8.900   9.013   8.564\n"
     ]
    },
    {
     "data": {
      "text/plain": [
       "<matplotlib.legend.Legend at 0x7fe28dbe14a8>"
      ]
     },
     "execution_count": 107,
     "metadata": {},
     "output_type": "execute_result"
    },
    {
     "data": {
      "text/plain": [
       "<matplotlib.figure.Figure at 0x7fe28f9d97b8>"
      ]
     },
     "metadata": {},
     "output_type": "display_data"
    },
    {
     "data": {
      "image/png": "[encoded data removed]",
      "text/plain": [
       "<matplotlib.figure.Figure at 0x7fe28fa82198>"
      ]
     },
     "metadata": {},
     "output_type": "display_data"
    }
   ],
   "source": [
    "import numpy as np\n",
    "import matplotlib.pyplot as plt\n",
    "%matplotlib inline\n",
    "import mlutils as ml\n",
    "import neuralnetworks as nn\n",
    "import scaledconjugategradient as scg\n",
    "import itertools\n",
    "\n",
    "\n",
    "\n",
    "\n",
    "X,T,Xnames,Tname = makeYachtData()\n",
    "\n",
    "parms = list(itertools.product([2,5,10, 20, [5,5], [10,2,10]], [10,20,100]))\n",
    "\n",
    "result1 = trainValidateTestKFolds(trainLinear,evaluateLinear,X,T,\n",
    "                                 range(0,11,1),nFolds=10,shuffle=False)\n",
    "result2 = trainValidateTestKFolds(trainLinear,evaluateLinear,X,T,\n",
    "                                 range(0,101,10),nFolds=10,shuffle=False)\n",
    "result3 = trainValidateTestKFolds(trainLinear,evaluateLinear,X,T,\n",
    "                                 range(0,151,15),nFolds=10,shuffle=False)\n",
    "result4 = trainValidateTestKFolds(trainLinear,evaluateLinear,X,T,\n",
    "                                 range(0,201,20),nFolds=10,shuffle=False)\n",
    "result5 = trainValidateTestKFolds(trainLinear,evaluateLinear,X,T,\n",
    "                                 range(0,251,25),nFolds=10,shuffle=False)\n",
    "result6 = trainValidateTestKFolds(trainLinear,evaluateLinear,X,T,\n",
    "                                 range(0,301,30),nFolds=10,shuffle=False)\n",
    "\n",
    "paramSets = ['range(0,11,1)','range(0,101,10)','range(0,151,15)','range(0,201,20)','range(0,251,25)','range(0,301,30)']\n",
    "\n",
    "plt.figure(figsize=(20,20))\n",
    "\n",
    "finalArray = np.vstack((result1,result2,result3,result4,result5,result6))\n",
    "count = 0\n",
    "print (\"\\n\\nTesting with nFolds of 10 at various values for parameterSets\")\n",
    "print('Linear Model\\nlambda, train, validate, test RMSE')\n",
    "for x in finalArray:\n",
    "    if count%10==0:\n",
    "        print(\"\\nparamSets value: \",end=\"\")\n",
    "        print(paramSets[int(count/10)])\n",
    "    print('{:.2f}    {:.3f}   {:.3f}   {:.3f}'.format(*x))\n",
    "    count = count+1\n",
    "\n",
    "plt.figure(figsize=(10,10))\n",
    "plt.plot(finalArray[:,:1],finalArray[:,1:2],'o',finalArray[:,:1],finalArray[:,2:3],'o',finalArray[:,:1],finalArray[:,3:4],'o')\n",
    "plt.xlim(-1,max(finalArray[:,:1]+1))\n",
    "plt.legend(('trainError','validateError','testError'),loc='best') "
   ]
  },
  {
   "cell_type": "code",
   "execution_count": 144,
   "metadata": {
    "collapsed": false
   },
   "outputs": [
    {
     "name": "stdout",
     "output_type": "stream",
     "text": [
      "Read 308 rows and 7 columns from yacht_hydrodynamics.data\n",
      "After removing rows containing question marks, data has 308 rows and 7 columns.\n",
      "NN Model\n",
      "(hidden units, iterations), train, validate, test RMSE\n",
      "([10, 10], 10)  \t\t\t\t    12.706   3.194   12.153\n",
      "(4, 10)  \t\t\t\t    4.020   4.792   4.098\n",
      "(1, 10)  \t\t\t\t    2.552   3.732   2.467\n",
      "(4, 10)  \t\t\t\t    3.593   5.323   4.332\n",
      "(2, 10)  \t\t\t\t    4.602   4.854   4.939\n",
      "([2, 2], 20)  \t\t\t\t    1.498   1.736   1.404\n",
      "(1, 20)  \t\t\t\t    1.588   1.697   1.722\n",
      "(9, 20)  \t\t\t\t    1.641   1.812   1.276\n",
      "(3, 20)  \t\t\t\t    4.569   1.598   5.184\n",
      "(3, 20)  \t\t\t\t    1.340   1.923   2.063\n",
      "([20, 10, 20], 50)  \t\t\t\t    0.566   1.310   1.492\n",
      "([10, 2, 10], 50)  \t\t\t\t    0.637   1.294   1.446\n",
      "([20, 10, 20], 50)  \t\t\t\t    0.509   2.231   0.687\n",
      "([20, 10, 20], 50)  \t\t\t\t    0.556   1.752   1.875\n",
      "([5, 5], 20)  \t\t\t\t    2.466   2.276   3.725\n"
     ]
    }
   ],
   "source": [
    "X,T,Xnames,Tname = makeYachtData()\n",
    "\n",
    "parms1 = list(itertools.product([1, 2, 4, 8, [1,1], [10,10]], [10,10,10]))\n",
    "parms2 = list(itertools.product([1, 3, 9, 21, [2,2], [20,20]], [20,10,20]))\n",
    "parms3 = list(itertools.product([[5,5], [10,2,10], [20,10,20]], [10,20,50]))\n",
    "\n",
    "result1 = trainValidateTestKFolds(trainNN,evaluateNN,X,T,\n",
    "                                 parms1,nFolds=5,shuffle=False)\n",
    "result2 = trainValidateTestKFolds(trainNN,evaluateNN,X,T,\n",
    "                                 parms2,nFolds=5,shuffle=False)\n",
    "result3 = trainValidateTestKFolds(trainNN,evaluateNN,X,T,\n",
    "                                 parms3,nFolds=5,shuffle=False)\n",
    "\n",
    "finalArray = np.vstack((result1,result2,result3))\n",
    "\n",
    "print('NN Model\\n(hidden units, iterations), train, validate, test RMSE')\n",
    "for x in finalArray:\n",
    "    print('{:}  \\t\\t\\t\\t    {:.3f}   {:.3f}   {:.3f}'.format(*x))\n"
   ]
  },
  {
   "cell_type": "markdown",
   "metadata": {},
   "source": [
    "## Results\n",
    "\n",
    "Discuss the results obtained, including the error values and the parameter values that result in the best performance."
   ]
  },
  {
   "cell_type": "markdown",
   "metadata": {},
   "source": [
    "__Linear Results:__\n",
    "\n",
    "When comparing the results in the yacht data set against the linear results in the "
   ]
  },
  {
   "cell_type": "markdown",
   "metadata": {},
   "source": [
    "## Grading\n",
    "\n",
    "Your notebook will be run and graded automatically. Download [A3grader.tar](http://www.cs.colostate.edu/~anderson/cs480/notebooks/A3grader.tar) and extract `A3grader.py` from it. Run the code in the following cell to demonstrate an example grading session.  You should see a perfect score of 80/100 if your functions are defined correctly.  The remaining 20% will be based on the instructors reading of your notebooks.  We will be looking for how well the method is explained in text with some LaTeX math, and how well the results are summarized."
   ]
  },
  {
   "cell_type": "code",
   "execution_count": 5,
   "metadata": {
    "collapsed": false
   },
   "outputs": [
    {
     "name": "stdout",
     "output_type": "stream",
     "text": [
      " Testing: result = trainValidateTestKFolds(trainLinear,evaluateLinear,X,T,\n",
      "                  range(0,101,10),nFolds=5,shuffle=False)\n",
      " Your result is\n",
      "    10   3.158   4.132   2.414\n",
      "    20   4.368   5.021   3.641\n",
      "    10   3.245   4.178   5.03\n",
      "    20   4.448   6.07   2.024\n",
      "    20   2.426   2.972   10.89\n",
      "20/20 points. First column, of best lambda values, is correct.\n",
      "20/20 points. Columns of RMSE values are correct.\n",
      "\n",
      " Testing:\n",
      "   import itertools\n",
      "   parms = list(itertools.product([[5],[5,5],[2,2,2]], [10,50,100,200]))\n",
      "   te = []\n",
      "   for rep in range(5):\n",
      "       result = trainValidateTestKFolds(trainNN,evaluateNN,X,T,\n",
      "                                        parms,\n",
      "                                        nFolds=4,shuffle=False)\n",
      "       resulte = np.array([r[1:] for r in result])\n",
      "       meanTestRMSE = resulte[:,-1].mean()\n",
      "       print('     ',meanTestRMSE)\n",
      "       te.append(meanTestRMSE)\n",
      "      1.71153421008\n",
      "      2.73341558571\n",
      "      2.65865828346\n",
      "      1.26378114136\n",
      "      1.81521749337\n",
      "40/40 points. Mean test RMSE is less than 5 as it should be.\n",
      "\n",
      "Assignment_3 Grade is 80/100\n",
      "Up to 20 more points will be given based on the qualty of your descriptions of the method and the results.\n"
     ]
    }
   ],
   "source": [
    "%run -i \"A3grader.py\""
   ]
  },
  {
   "cell_type": "markdown",
   "metadata": {},
   "source": [
    "## Check-in"
   ]
  },
  {
   "cell_type": "markdown",
   "metadata": {},
   "source": [
    "Do not include this section in your notebook.\n",
    "\n",
    "Name your notebook ```Lastname A3.ipynb```.  So, for me it would be ```Anderson A3.ipynb```.  Submit the file using the ```Assignment 3``` link on [Canvas](https://colostate.instructure.com/courses/28803).\n",
    "\n",
    "Grading will be based on \n",
    "\n",
    "  * correct behavior of the required functions,\n",
    "  * readability of the notebook,\n",
    "  * effort in making interesting observations, and in formatting your notebook."
   ]
  }
 ],
 "metadata": {
  "kernelspec": {
   "display_name": "Python 3",
   "language": "python",
   "name": "python3"
  },
  "language_info": {
   "codemirror_mode": {
    "name": "ipython",
    "version": 3
   },
   "file_extension": ".py",
   "mimetype": "text/x-python",
   "name": "python",
   "nbconvert_exporter": "python",
   "pygments_lexer": "ipython3",
   "version": "3.4.3"
  }
 },
 "nbformat": 4,
 "nbformat_minor": 0
}
